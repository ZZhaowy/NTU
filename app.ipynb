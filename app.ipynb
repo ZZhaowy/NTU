{
 "cells": [
  {
   "cell_type": "code",
   "execution_count": null,
   "id": "7c4d5f14",
   "metadata": {},
   "outputs": [
    {
     "name": "stdout",
     "output_type": "stream",
     "text": [
      " * Serving Flask app \"__main__\" (lazy loading)\n",
      " * Environment: production\n",
      "\u001b[31m   WARNING: This is a development server. Do not use it in a production deployment.\u001b[0m\n",
      "\u001b[2m   Use a production WSGI server instead.\u001b[0m\n",
      " * Debug mode: off\n"
     ]
    },
    {
     "name": "stderr",
     "output_type": "stream",
     "text": [
      " * Running on http://127.0.0.1:5000/ (Press CTRL+C to quit)\n",
      "127.0.0.1 - - [21/Feb/2024 10:27:39] \"GET / HTTP/1.1\" 200 -\n",
      "127.0.0.1 - - [21/Feb/2024 10:27:39] \"GET /favicon.ico HTTP/1.1\" 404 -\n",
      "127.0.0.1 - - [21/Feb/2024 10:27:43] \"POST /main HTTP/1.1\" 200 -\n",
      "127.0.0.1 - - [21/Feb/2024 10:27:44] \"POST /image_gpt HTTP/1.1\" 200 -\n",
      "127.0.0.1 - - [21/Feb/2024 10:28:29] \"POST /image_result HTTP/1.1\" 200 -\n",
      "127.0.0.1 - - [21/Feb/2024 10:29:21] \"POST /main HTTP/1.1\" 200 -\n",
      "127.0.0.1 - - [21/Feb/2024 10:29:22] \"POST /image_gpt HTTP/1.1\" 200 -\n",
      "127.0.0.1 - - [21/Feb/2024 10:30:11] \"POST /image_result HTTP/1.1\" 200 -\n",
      "127.0.0.1 - - [21/Feb/2024 10:31:05] \"POST /end HTTP/1.1\" 200 -\n"
     ]
    }
   ],
   "source": [
    "# %load app.py\n",
    "from flask import Flask, request, render_template\n",
    "import replicate\n",
    "import os\n",
    "import time\n",
    "\n",
    "app = Flask(__name__)\n",
    "os.environ[\"REPLICATE_API_TOKEN\"] = \"r8_GHyHGLZOntMYvtEgUZiE9vFdtMZrj7L2ZTtgM\"\n",
    "\n",
    "r = \"\"\n",
    "first_time = 1\n",
    "\n",
    "@app.route(\"/\", methods=[\"GET\", \"POST\"])\n",
    "def index():\n",
    "    return (render_template(\"index.html\"))\n",
    "\n",
    "\n",
    "@app.route(\"/main\", methods=[\"GET\", \"POST\"])\n",
    "def main():\n",
    "    global r, first_time\n",
    "    if first_time == 1:\n",
    "        r = request.form.get(\"r\")\n",
    "        first_time = 0\n",
    "    return (render_template(\"main.html\", r=r))\n",
    "\n",
    "\n",
    "@app.route(\"/image_gpt\", methods=[\"GET\", \"POST\"])\n",
    "def image_gpt():\n",
    "    return (render_template(\"image_gpt.html\"))\n",
    "\n",
    "@app.route(\"/image_result\", methods=[\"GET\", \"POST\"])\n",
    "def image_result():\n",
    "    q = request.form.get(\"q\")\n",
    "    r = replicate.run(\"stability-ai/stable-diffusion:db21e45d3f7023abc2a46ee38a23973f6dce16bb082a930b0c49861f96d1e5bf\",\n",
    "        input={ \n",
    "        \"prompt\": q,}\n",
    ")\n",
    "    time.sleep(10)\n",
    "    return (render_template(\"image_result.html\",r=r[0]))\n",
    "\n",
    "\n",
    "@app.route(\"/end\", methods=[\"GET\", \"POST\"])\n",
    "def end():\n",
    "    global first_time\n",
    "    first_time = 1\n",
    "    return (render_template(\"end.html\"))\n",
    "\n",
    "if __name__ == \"__main__\":\n",
    "    app.run()\n"
   ]
  },
  {
   "cell_type": "code",
   "execution_count": null,
   "id": "6f6a31a5",
   "metadata": {},
   "outputs": [],
   "source": []
  }
 ],
 "metadata": {
  "kernelspec": {
   "display_name": "Python 3 (ipykernel)",
   "language": "python",
   "name": "python3"
  },
  "language_info": {
   "codemirror_mode": {
    "name": "ipython",
    "version": 3
   },
   "file_extension": ".py",
   "mimetype": "text/x-python",
   "name": "python",
   "nbconvert_exporter": "python",
   "pygments_lexer": "ipython3",
   "version": "3.9.13"
  }
 },
 "nbformat": 4,
 "nbformat_minor": 5
}
